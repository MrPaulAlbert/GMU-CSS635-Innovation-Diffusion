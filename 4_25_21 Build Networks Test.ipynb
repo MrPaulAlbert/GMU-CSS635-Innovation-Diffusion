{
 "cells": [
  {
   "cell_type": "code",
   "execution_count": 1,
   "metadata": {},
   "outputs": [],
   "source": [
    "# Load data for networks\n",
    "\n",
    "import csv\n",
    "\n",
    "# Enron\n",
    "\n",
    "infile = open('/Users/paulalbert/OneDrive - George Mason University/CSS692 SNA Work/email-Enron.txt', 'r',)\n",
    "lines=[]\n",
    "enron_links=[]\n",
    "\n",
    "for line in infile:\n",
    "    lines.append(line)\n",
    "\n",
    "for line in lines[4:]:\n",
    "    s1=line.split()\n",
    "    i=s1[0]\n",
    "    j=s1[1]\n",
    "    enron_links.append([i,j])\n",
    "\n",
    "#Condensed\n",
    "\n",
    "infile = open('/Users/paulalbert/OneDrive - George Mason University/CSS692 SNA Work/ca-CondMat-noself.txt', 'r',)\n",
    "lines=[]\n",
    "condensed_links = []\n",
    "\n",
    "for line in infile:\n",
    "    lines.append(line)\n",
    "\n",
    "for line in lines[4:]:\n",
    "    s1=line.split()\n",
    "    i=s1[0]\n",
    "    j=s1[1]\n",
    "    condensed_links.append([i,j])\n",
    "\n",
    "#SixDeg\n",
    "\n",
    "infile = open('/Users/paulalbert/OneDrive - George Mason University/CSS 635  Cognition/ID1 to ID2 Six Degrees Network w 60 plus confidence.csv', 'r')\n",
    "lines=[]\n",
    "sixdeg_links = []\n",
    "\n",
    "for line in infile:\n",
    "    lines.append(line)\n",
    "\n",
    "for line in lines[1:]:\n",
    "    s1=line.split()\n",
    "    i=s1[0]\n",
    "    j=s1[1]\n",
    "    sixdeg_links.append([i,j])\n",
    "\n",
    "    \n",
    "    "
   ]
  },
  {
   "cell_type": "markdown",
   "metadata": {},
   "source": [
    "# ADDING IN SixDeg90"
   ]
  },
  {
   "cell_type": "code",
   "execution_count": 33,
   "metadata": {},
   "outputs": [],
   "source": [
    "#SixDeg90\n",
    "\n",
    "infile = open('/Users/paulalbert/OneDrive - George Mason University/CSS 635  Cognition/SixDegOver90PercentConfidence.csv', 'r')\n",
    "lines=[]\n",
    "sixdeg90_links = []\n",
    "\n",
    "for line in infile:\n",
    "    lines.append(line)\n",
    "\n",
    "for line in lines[1:]:\n",
    "    s1=line.split()\n",
    "    i=s1[0]\n",
    "    j=s1[1]\n",
    "    sixdeg90_links.append([i,j])"
   ]
  },
  {
   "cell_type": "code",
   "execution_count": 36,
   "metadata": {},
   "outputs": [
    {
     "data": {
      "text/plain": [
       "(0.0009271904595837232, 2679, 3326)"
      ]
     },
     "execution_count": 36,
     "metadata": {},
     "output_type": "execute_result"
    }
   ],
   "source": [
    "import networkx as nx\n",
    "\n",
    "sixdeg90 = nx.Graph()\n",
    "for i in sixdeg90_links:\n",
    "    sixdeg90.add_edge(i[0],i[1])\n",
    "    \n",
    "nx.write_gml(sixdeg90, \"/Users/paulalbert/OneDrive - George Mason University/CSS 635  Cognition/Python/sixdeg90.gml\", stringizer=None)\n",
    "\n",
    "nx.density(sixdeg90),  nx.number_of_nodes(sixdeg90), nx.number_of_edges(sixdeg90)"
   ]
  },
  {
   "cell_type": "code",
   "execution_count": 40,
   "metadata": {},
   "outputs": [],
   "source": [
    "sixdeg90btwncent = nx.betweenness_centrality(sixdeg90)\n",
    "sixdeg90closecent = nx.closeness_centrality(sixdeg90)\n",
    "sixdeg90degcent = nx.degree_centrality(sixdeg90)\n"
   ]
  },
  {
   "cell_type": "markdown",
   "metadata": {},
   "source": [
    "# End Adding in SixDeg90"
   ]
  },
  {
   "cell_type": "markdown",
   "metadata": {},
   "source": [
    "# Bring in Padgett Florentine Families"
   ]
  },
  {
   "cell_type": "code",
   "execution_count": 10,
   "metadata": {},
   "outputs": [],
   "source": [
    "# Just Marriage Links\n",
    "infile = open('/Users/paulalbert/OneDrive - George Mason University/CSS 635  Cognition/Padgett Medici Marriage.csv', 'r')\n",
    "lines=[]\n",
    "PadgettM_links = []\n",
    "\n",
    "for line in infile:\n",
    "    lines.append(line)\n",
    "\n",
    "for line in lines[1:]:\n",
    "    s1=line.split()\n",
    "    i=s1[0]\n",
    "    j=s1[1]\n",
    "    PadgettM_links.append([i,j])\n",
    "    \n",
    "    \n",
    "# Marriage + Business Links    \n",
    "infile = open('/Users/paulalbert/OneDrive - George Mason University/CSS 635  Cognition/Padgett Medici Marriage plus Business.csv', 'r')\n",
    "lines=[]\n",
    "PadgettMB_links = []\n",
    "\n",
    "for line in infile:\n",
    "    lines.append(line)\n",
    "\n",
    "for line in lines[1:]:\n",
    "    s1=line.split()\n",
    "    i=s1[0]\n",
    "    j=s1[1]\n",
    "    PadgettMB_links.append([i,j])"
   ]
  },
  {
   "cell_type": "code",
   "execution_count": 12,
   "metadata": {},
   "outputs": [
    {
     "data": {
      "text/plain": [
       "(0.16666666666666666, 16, 20, 0.225, 16, 27)"
      ]
     },
     "execution_count": 12,
     "metadata": {},
     "output_type": "execute_result"
    }
   ],
   "source": [
    "import networkx as nx\n",
    "\n",
    "PadgettM = nx.Graph()\n",
    "for i in PadgettM_links:\n",
    "    PadgettM.add_edge(i[0],i[1])\n",
    "PadgettM.add_node(\"PUCCI\") # unconnected node\n",
    "    \n",
    "nx.write_gml(PadgettM, \"/Users/paulalbert/OneDrive - George Mason University/CSS 635  Cognition/Python/PadgettM.gml\", stringizer=None)\n",
    "\n",
    "\n",
    "PadgettMB = nx.Graph()\n",
    "for i in PadgettMB_links:\n",
    "    PadgettMB.add_edge(i[0],i[1])\n",
    "PadgettMB.add_node(\"PUCCI\") # unconnected node\n",
    "    \n",
    "nx.write_gml(PadgettMB, \"/Users/paulalbert/OneDrive - George Mason University/CSS 635  Cognition/Python/PadgettMB.gml\", stringizer=None)\n",
    "\n",
    "\n",
    "nx.density(PadgettM),  nx.number_of_nodes(PadgettM), nx.number_of_edges(PadgettM), nx.density(PadgettMB),  nx.number_of_nodes(PadgettMB), nx.number_of_edges(PadgettMB)"
   ]
  },
  {
   "cell_type": "markdown",
   "metadata": {},
   "source": [
    "# End Adding in Padgett Florentine Families"
   ]
  },
  {
   "cell_type": "markdown",
   "metadata": {},
   "source": [
    "# Begin Generating Random Networks to Test Against Netlogo Random Networks\n"
   ]
  },
  {
   "cell_type": "code",
   "execution_count": 14,
   "metadata": {},
   "outputs": [],
   "source": [
    "# fast_gnp_random_graph(n, p, seed=None, directed=False)[source]\n",
    "# https://networkx.org/documentation/stable/reference/generated/networkx.generators.random_graphs.fast_gnp_random_graph.html#networkx.generators.random_graphs.fast_gnp_random_graph\n",
    "\n"
   ]
  },
  {
   "cell_type": "code",
   "execution_count": 16,
   "metadata": {},
   "outputs": [],
   "source": [
    "import networkx as nx\n",
    "\n",
    "nxrandom100 = nx.fast_gnp_random_graph(100, 0.004, seed=None, directed=False)\n",
    "nx.write_gml(nxrandom100, \"/Users/paulalbert/OneDrive - George Mason University/CSS 635  Cognition/Python/nxrandom100.gml\", stringizer=None)\n",
    "\n",
    "nxrandom500 = nx.fast_gnp_random_graph(500, 0.004, seed=None, directed=False)\n",
    "nx.write_gml(nxrandom500, \"/Users/paulalbert/OneDrive - George Mason University/CSS 635  Cognition/Python/nxrandom500.gml\", stringizer=None)\n",
    "\n",
    "nxrandom1000 = nx.fast_gnp_random_graph(1000, 0.004, seed=None, directed=False)\n",
    "nx.write_gml(nxrandom1000, \"/Users/paulalbert/OneDrive - George Mason University/CSS 635  Cognition/Python/nxrandom1000.gml\", stringizer=None)\n",
    "\n",
    "\n",
    "nxrandom2000 = nx.fast_gnp_random_graph(2000, 0.004, seed=None, directed=False)\n",
    "nx.write_gml(nxrandom2000, \"/Users/paulalbert/OneDrive - George Mason University/CSS 635  Cognition/Python/nxrandom2000.gml\", stringizer=None)\n"
   ]
  },
  {
   "cell_type": "code",
   "execution_count": null,
   "metadata": {},
   "outputs": [],
   "source": []
  },
  {
   "cell_type": "code",
   "execution_count": null,
   "metadata": {},
   "outputs": [],
   "source": []
  },
  {
   "cell_type": "markdown",
   "metadata": {},
   "source": [
    "# End Generating Random Networks to Test Against Netlogo Random Networks"
   ]
  },
  {
   "cell_type": "code",
   "execution_count": 2,
   "metadata": {},
   "outputs": [
    {
     "data": {
      "text/plain": [
       "(367662, 186878, 19518)"
      ]
     },
     "execution_count": 2,
     "metadata": {},
     "output_type": "execute_result"
    }
   ],
   "source": [
    "len(enron_links), len(condensed_links), len(sixdeg_links)"
   ]
  },
  {
   "cell_type": "code",
   "execution_count": 3,
   "metadata": {},
   "outputs": [],
   "source": [
    "import networkx as nx\n",
    "\n",
    "enron = nx.Graph()\n",
    "for i in enron_links:\n",
    "    enron.add_edge(i[0],i[1])\n",
    "    \n",
    "citations = nx.Graph()\n",
    "for i in condensed_links:\n",
    "    citations.add_edge(i[0],i[1])\n",
    "    \n",
    "sixdeg = nx.Graph()\n",
    "for i in sixdeg_links:\n",
    "    sixdeg.add_edge(i[0],i[1])"
   ]
  },
  {
   "cell_type": "code",
   "execution_count": 4,
   "metadata": {},
   "outputs": [
    {
     "data": {
      "text/plain": [
       "(36692, 23133, 8741)"
      ]
     },
     "execution_count": 4,
     "metadata": {},
     "output_type": "execute_result"
    }
   ],
   "source": [
    "len(enron),len(citations),len(sixdeg)"
   ]
  },
  {
   "cell_type": "code",
   "execution_count": 52,
   "metadata": {},
   "outputs": [
    {
     "data": {
      "text/plain": [
       "AtlasView({'10000010': {}, '10000012': {}, '10012827': {}, '10011681': {}, '10007175': {}, '10005897': {}, '10004158': {}, '10001099': {}})"
      ]
     },
     "execution_count": 52,
     "metadata": {},
     "output_type": "execute_result"
    }
   ],
   "source": [
    "#Check network, confirm neighbors match Tableau base - CONFIRMED\n",
    "sixdeg[\"10000013\"]"
   ]
  },
  {
   "cell_type": "code",
   "execution_count": 54,
   "metadata": {},
   "outputs": [],
   "source": [
    "nx.write_gml(sixdeg, \"/Users/paulalbert/OneDrive - George Mason University/CSS 635  Cognition/Python/sixdeg.gml\", stringizer=None)"
   ]
  },
  {
   "cell_type": "code",
   "execution_count": 55,
   "metadata": {},
   "outputs": [],
   "source": [
    "nx.write_gml(enron, \"/Users/paulalbert/OneDrive - George Mason University/CSS 635  Cognition/Python/enron.gml\", stringizer=None)"
   ]
  },
  {
   "cell_type": "code",
   "execution_count": 56,
   "metadata": {},
   "outputs": [],
   "source": [
    "nx.write_gml(citations, \"/Users/paulalbert/OneDrive - George Mason University/CSS 635  Cognition/Python/citations.gml\", stringizer=None)"
   ]
  },
  {
   "cell_type": "code",
   "execution_count": 59,
   "metadata": {},
   "outputs": [],
   "source": [
    "# Analyzing Graphs\n",
    "# g.nodes , g.edges, g.adj, g.degree\n",
    "# sixdeg.nodes , sixdeg.edges, sixdeg.adj, sixdeg.degree"
   ]
  },
  {
   "cell_type": "code",
   "execution_count": 5,
   "metadata": {},
   "outputs": [
    {
     "data": {
      "text/plain": [
       "(0.0005109668866335744, 8741, 19518, 0, 0.043307203315610915)"
      ]
     },
     "execution_count": 5,
     "metadata": {},
     "output_type": "execute_result"
    }
   ],
   "source": [
    "# density(G), degree_histogram(G), number_of_nodes(G), number_of_edges(G), number_of_selfloops(G)\n",
    "#nx.degree_histogram(sixdeg),\n",
    "nx.density(sixdeg),  nx.number_of_nodes(sixdeg), nx.number_of_edges(sixdeg), nx.number_of_selfloops(sixdeg), nx.transitivity(sixdeg)"
   ]
  },
  {
   "cell_type": "code",
   "execution_count": 6,
   "metadata": {},
   "outputs": [
    {
     "data": {
      "text/plain": [
       "(0.00034923119987489135, 23133, 93439, 0, 0.2643168246385282)"
      ]
     },
     "execution_count": 6,
     "metadata": {},
     "output_type": "execute_result"
    }
   ],
   "source": [
    "nx.density(citations),  nx.number_of_nodes(citations), nx.number_of_edges(citations), nx.number_of_selfloops(citations), nx.transitivity(citations)"
   ]
  },
  {
   "cell_type": "code",
   "execution_count": 8,
   "metadata": {},
   "outputs": [
    {
     "data": {
      "text/plain": [
       "(0.00027309755503535, 36692, 183831, 0, 0.0853107962707866)"
      ]
     },
     "execution_count": 8,
     "metadata": {},
     "output_type": "execute_result"
    }
   ],
   "source": [
    "nx.density(enron),  nx.number_of_nodes(enron), nx.number_of_edges(enron), nx.number_of_selfloops(enron), nx.transitivity(enron)"
   ]
  },
  {
   "cell_type": "code",
   "execution_count": 68,
   "metadata": {},
   "outputs": [],
   "source": [
    "# Citations is too large for Netlogo - goal-find GCC - NOT NECESSARY, calculating seeding importance manually in NX, not NetLogo\n",
    "# Gcc = sorted(nx.connected_components(citations), key=len, reverse=True)\n",
    "# G0 = citations.subgraph(Gcc[0])"
   ]
  },
  {
   "cell_type": "code",
   "execution_count": 70,
   "metadata": {},
   "outputs": [
    {
     "data": {
      "text/plain": [
       "(0.0004000645057231869, 21363, 91286, 0, 0.26182397612958924)"
      ]
     },
     "execution_count": 70,
     "metadata": {},
     "output_type": "execute_result"
    }
   ],
   "source": [
    "# nx.density(G0),  nx.number_of_nodes(G0), nx.number_of_edges(G0), nx.number_of_selfloops(G0), nx.transitivity(G0)"
   ]
  },
  {
   "cell_type": "code",
   "execution_count": 5,
   "metadata": {},
   "outputs": [],
   "source": [
    "#create basic dictionaries\n",
    "\n",
    "sixdegbtwncent = nx.betweenness_centrality(sixdeg)\n",
    "enronbtwncent = nx.betweenness_centrality(enron)\n",
    "citndegbtwncent = nx.betweenness_centrality(citations)\n",
    "\n",
    "sixdegclosecent = nx.closeness_centrality(sixdeg)\n",
    "enronclosecent = nx.closeness_centrality(enron)\n",
    "citndegclosecent = nx.closeness_centrality(citations)\n",
    "\n",
    "\n",
    "sixdegdegcent = nx.degree_centrality(sixdeg)\n",
    "enrondegcent = nx.degree_centrality(enron)\n",
    "citndegdegcent = nx.degree_centrality(citations)"
   ]
  },
  {
   "cell_type": "code",
   "execution_count": 90,
   "metadata": {},
   "outputs": [],
   "source": [
    "# enronbtwncent.items()\n",
    "# dict_items([('0', 0.0), ('1', 0.001891379915187883), ('2', 0.0), ('3', 1.343503936312361e-06), ('4', 4.060183831743017e-06), ('5', 0.007215077111059162), ('6', 2.2437956454344733e-05), ('7', 5.201847171746598e-05), ('8', 0.0), ('9', 0.006876149449110731), ('10', 0.0), ('11', 4.004765533887401e-06), ('12', 4.004765533887401e-06), ('13', 3.38225123866355e-05), ('14', 0.0), ('15', 1.8778246877965572e-05), \n",
    "# sixdegdegcent.items()           \n",
    "# dict_items([('10000001', 0.0002288329519450801), ('10006152', 0.0019450800915331808), ('10002977', 0.010297482837528604), ('10000009', 0.00011441647597254005),\n",
    "# enronclosecent.items() \n",
    "# dict_items([('0', 0.21162094681808538), ('1', 0.2749861197713821), ('2', 0.21162094681808538), ('3', 0.2358868584055045), ('4', 0.253032832225054), ('5', 0.32704445427447876), ('6', 0.2589490789361581), ('7', 0.2679938169960687), ('8', 0.21162094681808538), ('9', 0.30387247582400334), ('10', 0.21582310783354197), ('11', 0.24390420031555698), ('12', 0.24390420031555698), ('13', 0.2623876511318829), ('14', 0.21162094681808538), ('15', 0.24861316904860065), ('16', 0.2484275444823623), ('17', 0.21162094681808538), ('18', 0.2547136913966784), "
   ]
  },
  {
   "cell_type": "code",
   "execution_count": 39,
   "metadata": {},
   "outputs": [
    {
     "data": {
      "text/plain": [
       "['73647',\n",
       " '52658',\n",
       " '78667',\n",
       " '97632',\n",
       " '22987',\n",
       " '101425',\n",
       " '97788',\n",
       " '15439',\n",
       " '46269',\n",
       " '45942',\n",
       " '46016',\n",
       " '95372',\n",
       " '83259',\n",
       " '22757',\n",
       " '91392',\n",
       " '101355',\n",
       " '12915',\n",
       " '905',\n",
       " '95940',\n",
       " '88071']"
      ]
     },
     "execution_count": 39,
     "metadata": {},
     "output_type": "execute_result"
    }
   ],
   "source": [
    "# This worked for 4_9 run\n",
    "\n",
    "# from collections import OrderedDict\n",
    "# from operator import itemgetter\n",
    "\n",
    "# d = OrderedDict(sorted(citndegdegcent.items(), key=itemgetter(1), reverse=True))\n",
    "# e=list(d)\n",
    "# e[:20]\n"
   ]
  },
  {
   "cell_type": "code",
   "execution_count": 8,
   "metadata": {},
   "outputs": [],
   "source": [
    "\n",
    "# from collections import OrderedDict\n",
    "# from operator import itemgetter\n",
    "\n",
    "# alllists = [sixdegbtwncent, enronbtwncent, citndegbtwncent, sixdegclosecent, \n",
    "# enronclosecent, citndegclosecent, sixdegdegcent, enrondegcent,citndegdegcent]\n",
    "\n",
    "# for i in alllists:\n",
    "#     d = OrderedDict(sorted(i.items(), key=itemgetter(1), reverse=True))\n",
    "#     e=list(d)\n",
    "#     print(i, \"Descending\")\n",
    "#     print(e[:40])\n",
    "#     d = OrderedDict(sorted(i.items(), key=itemgetter(1), reverse=False))\n",
    "#     e=list(d)\n",
    "#     print(i, \"Ascending\")\n",
    "#     print(e[:40])\n",
    "    \n",
    "\n",
    "\n"
   ]
  },
  {
   "cell_type": "code",
   "execution_count": 41,
   "metadata": {},
   "outputs": [
    {
     "name": "stdout",
     "output_type": "stream",
     "text": [
      "sixdegbtwncent Descending ['10011671', '10011681', '10011670', '10012117', '10012119', '10011683', '10011673', '10013308', '10011687', '10007495', '10013301', '10000802', '10003058', '10005826', '10009549', '10012116', '10007175', '10013084', '10002251', '10011666', '10007966', '10002249', '10006720', '10006459', '10001806', '10012122', '10006462', '10001962', '10009592', '10011177', '10006686', '10011735', '10005550', '10012482', '10009828', '10011570', '10003060', '10000407', '10000142', '10005756']\n",
      "sixdegbtwncent Ascending ['10000001', '10000009', '10010729', '10008329', '10001508', '10000597', '10000014', '10000018', '10006909', '10009787', '10000024', '10006981', '10000027', '10000029', '10000030', '10000034', '10000035', '10006729', '10000039', '10000041', '10011541', '10000043', '10000046', '10000965', '10000053', '10000055', '10000057', '10002602', '10000058', '10004995', '10000551', '10005767', '10012360', '10000068', '10001924', '10000069', '10000080', '10009077', '10006820', '10009024']\n",
      "sixdeg90btwncent Descending ['10012117', '10011673', '10011671', '10011681', '10011670', '10012119', '10013301', '10012122', '10011683', '10006459', '10013308', '10009351', '10008309', '10003058', '10002249', '10010937', '10009549', '10006012', '10009828', '10000596', '10050160', '10008522', '10000473', '10011735', '10008555', '10055016', '10007175', '10010612', '10007966', '10006697', '10008308', '10011091', '10002251', '10011666', '10011177', '10005652', '10011845', '10006720', '10055015', '10012827']\n",
      "sixdeg90btwncent Ascending ['10002455', '10013027', '10004348', '10000673', '10004086', '10000758', '10054687', '10000712', '10001356', '10000330', '10005538', '10006568', '10012304', '10011499', '10006644', '10001660', '10005594', '10009392', '10001702', '10009767', '10001050', '10008069', '10011658', '10002153', '10008285', '10006163', '10009178', '10004279', '10002360', '10003559', '10003220', '10003221', '10005758', '10004117', '10054693', '10009798', '10003397', '10000616', '10000107', '10000443']\n",
      "enronbtwncent Descending ['5038', '140', '566', '588', '1139', '273', '458', '46', '1028', '292', '195', '370', '823', '136', '76', '286', '734', '543', '1768', '353', '647', '893', '416', '127', '95', '443', '613', '4746', '851', '213', '175', '1824', '155', '478', '530', '1559', '5030', '652', '887', '151']\n",
      "enronbtwncent Ascending ['0', '2', '8', '10', '14', '17', '20', '22', '23', '24', '26', '28', '29', '33', '34', '36', '37', '38', '40', '43', '47', '48', '57', '61', '63', '64', '66', '67', '68', '10606', '961', '962', '189', '6826', '5031', '5034', '5039', '5047', '5054', '5055']\n",
      "citndegbtwncent Descending ['73647', '52658', '101355', '22757', '101425', '46269', '78667', '46016', '56672', '15439', '8536', '26075', '97632', '101191', '91392', '107009', '15345', '9991', '52364', '15113', '83197', '97788', '84209', '96866', '35171', '31762', '106876', '38468', '33410', '66800', '22987', '45942', '28575', '12915', '1895', '46066', '95940', '52421', '42316', '101472']\n",
      "citndegbtwncent Ascending ['11894', '94', '46745', '67665', '5489', '38677', '89659', '44830', '46918', '61080', '7471', '14609', '17522', '23175', '31712', '48647', '67225', '90234', '7684', '95669', '22195', '29867', '73447', '8924', '50338', '87177', '90859', '96677', '102290', '107708', '44481', '55919', '4560', '11486', '14848', '22425', '37521', '37812', '49647', '50364']\n",
      "sixdegclosecent Descending ['10011671', '10011670', '10011673', '10011681', '10007966', '10006686', '10005826', '10003497', '10005724', '10000231', '10012117', '10003058', '10007495', '10010928', '10007388', '10009549', '10007175', '10013301', '10006012', '10013300', '10011683', '10008729', '10011689', '10010919', '10009981', '10004101', '10006720', '10013308', '10012460', '10008712', '10001806', '10010872', '10001984', '10001036', '10000802', '10006753', '10009174', '10008364', '10000589', '10002069']\n",
      "sixdegclosecent Ascending ['10000041', '10011541', '10000140', '10004255', '10000164', '10001131', '10000187', '10001382', '10000239', '10001793', '10000255', '10007313', '10000333', '10000335', '10000448', '10008473', '10000512', '10009087', '10000592', '10000595', '10000631', '10008055', '10000646', '10004816', '10000686', '10000688', '10000697', '10000699', '10000731', '10000732', '10000751', '10000754', '10000766', '10011168', '10000909', '10000918', '10000933', '10000934', '10000937', '10009496']\n",
      "sixdeg90closecent Descending ['10011673', '10012117', '10011681', '10011671', '10011670', '10013271', '10002249', '10013301', '10010078', '10013300', '10003058', '10013279', '10050218', '10050160', '10007966', '10012122', '10000473', '10009981', '10002251', '10005652', '10013291', '10009351', '10011683', '10009549', '10011459', '10008364', '10000112', '10013308', '10006737', '10010937', '10008522', '10010612', '10006012', '10006686', '10011091', '10002357', '10011554', '10011845', '10006254', '10007175']\n",
      "sixdeg90closecent Ascending ['10000673', '10004086', '10005538', '10006568', '10001660', '10005594', '10001702', '10009767', '10001050', '10008069', '10011658', '10002153', '10003220', '10003221', '10000107', '10000443', '10000589', '10005379', '10005360', '10006167', '10004216', '10006402', '10051829', '10051540', '10005147', '10005149', '10008339', '10054708', '10012445', '10013101', '10006569', '10006570', '10050603', '10009795', '10050053', '10000188', '10050495', '10054739', '10008296', '10008298']\n",
      "enronclosecent Descending ['136', '76', '46', '140', '370', '292', '195', '734', '175', '416', '1139', '458', '444', '566', '353', '1028', '241', '188', '273', '588', '134', '478', '520', '78', '106', '265', '851', '423', '88', '639', '213', '27', '93', '481', '802', '74', '516', '5', '499', '3161']\n",
      "enronclosecent Ascending ['2086', '2087', '9505', '9506', '11684', '11685', '13352', '13353', '13354', '13355', '13358', '13359', '13575', '13576', '13593', '13594', '13595', '13596', '13625', '13626', '13641', '13642', '13643', '13644', '13729', '13730', '13907', '13908', '13910', '13911', '13958', '13959', '14848', '14849', '14855', '14856', '14857', '14858', '15160', '15161']\n",
      "citndegclosecent Descending ['73647', '52658', '46269', '15439', '46016', '101425', '101355', '97632', '45942', '22757', '12915', '53880', '22987', '46066', '52364', '43683', '15822', '78667', '52421', '56672', '101472', '96866', '15345', '107009', '83197', '88071', '52726', '42316', '62217', '68811', '42792', '87484', '83259', '52228', '15113', '95940', '97788', '8416', '45810', '18871']\n",
      "citndegclosecent Ascending ['92829', '22494', '60328', '70103', '61714', '63184', '35388', '67324', '49343', '75438', '31928', '61999', '65138', '65146', '29764', '66052', '99139', '99928', '59443', '100000', '49035', '96001', '71995', '86180', '23343', '5838', '62040', '106369', '45137', '78181', '16876', '34620', '31818', '99765', '90734', '55372', '67558', '70983', '38645', '85192']\n",
      "sixdegdegcent Descending ['10011671', '10011670', '10011681', '10012119', '10011683', '10012117', '10013308', '10012116', '10002251', '10007175', '10003058', '10012122', '10011666', '10012118', '10013084', '10002249', '10012482', '10006459', '10000802', '10002977', '10006462', '10003061', '10009549', '10001243', '10009828', '10005550', '10006720', '10011735', '10003747', '10003060', '10008475', '10004684', '10001806', '10009320', '10009799', '10012492', '10007966', '10012478', '10000596', '10010937']\n",
      "sixdegdegcent Ascending ['10000009', '10010729', '10008329', '10000597', '10006909', '10009787', '10000024', '10000027', '10000029', '10000030', '10000034', '10000035', '10000039', '10000041', '10011541', '10000043', '10000046', '10000965', '10000053', '10000055', '10000058', '10012360', '10000069', '10000080', '10006820', '10009024', '10000095', '10000099', '10000101', '10008361', '10011256', '10004466', '10000115', '10000116', '10000119', '10000121', '10000125', '10000128', '10005145', '10010511']\n",
      "sixdeg90degcent Descending ['10012119', '10011671', '10011681', '10012117', '10011670', '10011683', '10013308', '10003058', '10009828', '10007175', '10002249', '10002251', '10012122', '10001243', '10011666', '10012116', '10005652', '10004684', '10006697', '10008475', '10012118', '10002977', '10008309', '10011735', '10010937', '10003743', '10005550', '10012482', '10006720', '10005740', '10003061', '10001806', '10009549', '10005491', '10000802', '10008812', '10006462', '10006459', '10007040', '10007171']\n",
      "sixdeg90degcent Ascending ['10002455', '10013027', '10004348', '10000673', '10004086', '10001356', '10000330', '10005538', '10006568', '10012304', '10011499', '10006644', '10001660', '10005594', '10009392', '10001702', '10009767', '10001050', '10008069', '10011658', '10002153', '10006163', '10009178', '10004279', '10003220', '10003221', '10005758', '10004117', '10054693', '10009798', '10000107', '10000443', '10000589', '10005379', '10005360', '10006167', '10009127', '10012431', '10054704', '10004773']\n",
      "enrondegcent Descending ['5038', '273', '458', '140', '1028', '195', '370', '1139', '136', '566', '823', '292', '588', '76', '416', '286', '353', '734', '851', '1824', '478', '95', '893', '516', '444', '520', '647', '652', '343', '543', '213', '443', '155', '175', '530', '127', '4063', '188', '639', '241']\n",
      "enrondegcent Ascending ['0', '2', '8', '14', '17', '20', '22', '23', '24', '26', '28', '29', '33', '34', '36', '37', '38', '40', '43', '47', '48', '57', '61', '63', '64', '66', '67', '68', '6826', '5054', '2095', '2102', '2104', '2108', '2113', '103', '130', '139', '152', '170']\n",
      "citndegdegcent Descending ['73647', '52658', '78667', '97632', '22987', '101425', '97788', '15439', '46269', '45942', '46016', '95372', '83259', '22757', '91392', '101355', '12915', '905', '95940', '88071', '87484', '26130', '26750', '29380', '101191', '26075', '40271', '57070', '25735', '84209', '64428', '45810', '30874', '107009', '61271', '8536', '23411', '20247', '11063', '43683']\n",
      "citndegdegcent Ascending ['7471', '67225', '22195', '73447', '96677', '44481', '55919', '11486', '37521', '94997', '33964', '2367', '31664', '4904', '67147', '7105', '97238', '92829', '22494', '10237', '21743', '65125', '78995', '74641', '8466', '77730', '31362', '24048', '41934', '50807', '105537', '60328', '70103', '48275', '98474', '1645', '40978', '31769', '103819', '96821']\n"
     ]
    }
   ],
   "source": [
    "alllists = {\"sixdegbtwncent\":sixdegbtwncent, \"sixdeg90btwncent\":sixdeg90btwncent, \"enronbtwncent\":enronbtwncent, \"citndegbtwncent\":citndegbtwncent, \n",
    "            \"sixdegclosecent\":sixdegclosecent, \"sixdeg90closecent\":sixdeg90closecent,\"enronclosecent\":enronclosecent, \"citndegclosecent\":citndegclosecent, \n",
    "            \"sixdegdegcent\":sixdegdegcent, \"sixdeg90degcent\":sixdeg90degcent, \"enrondegcent\":enrondegcent ,\"citndegdegcent\":citndegdegcent}\n",
    "for name,i in alllists.items():\n",
    "    d = OrderedDict(sorted(i.items(), key=itemgetter(1), reverse=True))\n",
    "    e=list(d)\n",
    "    print(name,\"Descending\",e[:40])\n",
    "    d = OrderedDict(sorted(i.items(), key=itemgetter(1), reverse=False))\n",
    "    e=list(d)\n",
    "    print(name,\"Ascending\",e[:40])\n"
   ]
  },
  {
   "cell_type": "code",
   "execution_count": 19,
   "metadata": {},
   "outputs": [],
   "source": [
    "# 4/9 results\n",
    "\n",
    "\n",
    "\n",
    "# sixdegbtwncent\n",
    "\n",
    "# '10011671',\n",
    "#  '10011681',\n",
    "#  '10011670',\n",
    "#  '10012117',\n",
    "#  '10012119',\n",
    "#  '10011683',\n",
    "#  '10011673',\n",
    "#  '10013308',\n",
    "#  '10011687',\n",
    "#  '10007495',\n",
    "#  '10013301',\n",
    "#  '10000802',\n",
    "#  '10003058',\n",
    "#  '10005826',\n",
    "#  '10009549',\n",
    "#  '10012116',\n",
    "#  '10007175',\n",
    "#  '10013084',\n",
    "#  '10002251',\n",
    "#  '10011666']\n",
    "    \n",
    "# enronbtwncent\n",
    "# '5038',\n",
    "#  '140',\n",
    "#  '566',\n",
    "#  '588',\n",
    "#  '1139',\n",
    "#  '273',\n",
    "#  '458',\n",
    "#  '46',\n",
    "#  '1028',\n",
    "#  '292',\n",
    "#  '195',\n",
    "#  '370',\n",
    "#  '823',\n",
    "#  '136',\n",
    "#  '76',\n",
    "#  '286',\n",
    "#  '734',\n",
    "#  '543',\n",
    "#  '1768',\n",
    "#  '353'\n",
    "    \n",
    "# citndegbtwncent\n",
    "# 73647',\n",
    "#  '52658',\n",
    "#  '101355',\n",
    "#  '22757',\n",
    "#  '101425',\n",
    "#  '46269',\n",
    "#  '78667',\n",
    "#  '46016',\n",
    "#  '56672',\n",
    "#  '15439',\n",
    "#  '8536',\n",
    "#  '26075',\n",
    "#  '97632',\n",
    "#  '101191',\n",
    "#  '91392',\n",
    "#  '107009',\n",
    "#  '15345',\n",
    "#  '9991',\n",
    "#  '52364',\n",
    "#  '15113'\n",
    "    \n",
    "# sixdegclosecent\n",
    "# ['10011671',\n",
    "#  '10011670',\n",
    "#  '10011673',\n",
    "#  '10011681',\n",
    "#  '10007966',\n",
    "#  '10006686',\n",
    "#  '10005826',\n",
    "#  '10003497',\n",
    "#  '10005724',\n",
    "#  '10000231',\n",
    "#  '10012117',\n",
    "#  '10003058',\n",
    "#  '10007495',\n",
    "#  '10010928',\n",
    "#  '10007388',\n",
    "#  '10009549',\n",
    "#  '10007175',\n",
    "#  '10013301',\n",
    "#  '10006012',\n",
    "#  '10013300']\n",
    "\n",
    "# enronclosecent\n",
    "# '136',\n",
    "#  '76',\n",
    "#  '46',\n",
    "#  '140',\n",
    "#  '370',\n",
    "#  '292',\n",
    "#  '195',\n",
    "#  '734',\n",
    "#  '175',\n",
    "#  '416',\n",
    "#  '1139',\n",
    "#  '458',\n",
    "#  '444',\n",
    "#  '566',\n",
    "#  '353',\n",
    "#  '1028',\n",
    "#  '241',\n",
    "#  '188',\n",
    "#  '273',\n",
    "#  '588'\n",
    "    \n",
    "# citndegclosecent\n",
    "# '73647',\n",
    "#  '52658',\n",
    "#  '46269',\n",
    "#  '15439',\n",
    "#  '46016',\n",
    "#  '101425',\n",
    "#  '101355',\n",
    "#  '97632',\n",
    "#  '45942',\n",
    "#  '22757',\n",
    "#  '12915',\n",
    "#  '53880',\n",
    "#  '22987',\n",
    "#  '46066',\n",
    "#  '52364',\n",
    "#  '43683',\n",
    "#  '15822',\n",
    "#  '78667',\n",
    "#  '52421',\n",
    "#  '56672'\n",
    "    \n",
    "# sixdegdegcent\n",
    "# '10011671',\n",
    "#  '10011670',\n",
    "#  '10011681',\n",
    "#  '10012119',\n",
    "#  '10011683',\n",
    "#  '10012117',\n",
    "#  '10013308',\n",
    "#  '10012116',\n",
    "#  '10002251',\n",
    "#  '10007175',\n",
    "#  '10003058',\n",
    "#  '10012122',\n",
    "#  '10011666',\n",
    "#  '10012118',\n",
    "#  '10013084',\n",
    "#  '10002249',\n",
    "#  '10012482',\n",
    "#  '10006459',\n",
    "#  '10000802',\n",
    "#  '10002977'\n",
    "    \n",
    "    \n",
    "# enrondegcent\n",
    "# ['5038',\n",
    "#  '273',\n",
    "#  '458',\n",
    "#  '140',\n",
    "#  '1028',\n",
    "#  '195',\n",
    "#  '370',\n",
    "#  '1139',\n",
    "#  '136',\n",
    "#  '566',\n",
    "#  '823',\n",
    "#  '292',\n",
    "#  '588',\n",
    "#  '76',\n",
    "#  '416',\n",
    "#  '286',\n",
    "#  '353',\n",
    "#  '734',\n",
    "#  '851',\n",
    "#  '1824'\n",
    " \n",
    "# citndegdegcent\n",
    "#     ['73647',\n",
    "#  '52658',\n",
    "#  '78667',\n",
    "#  '97632',\n",
    "#  '22987',\n",
    "#  '101425',\n",
    "#  '97788',\n",
    "#  '15439',\n",
    "#  '46269',\n",
    "#  '45942',\n",
    "#  '46016',\n",
    "#  '95372',\n",
    "#  '83259',\n",
    "#  '22757',\n",
    "#  '91392',\n",
    "#  '101355',\n",
    "#  '12915',\n",
    "#  '905',\n",
    "#  '95940',\n",
    "#  '88071']"
   ]
  }
 ],
 "metadata": {
  "kernelspec": {
   "display_name": "Python 3",
   "language": "python",
   "name": "python3"
  },
  "language_info": {
   "codemirror_mode": {
    "name": "ipython",
    "version": 3
   },
   "file_extension": ".py",
   "mimetype": "text/x-python",
   "name": "python",
   "nbconvert_exporter": "python",
   "pygments_lexer": "ipython3",
   "version": "3.8.5"
  }
 },
 "nbformat": 4,
 "nbformat_minor": 4
}
